{
 "cells": [
  {
   "attachments": {},
   "cell_type": "markdown",
   "metadata": {},
   "source": [
    "# Binary Classification Example\n",
    "\n",
    "In this notebook, we will go over how to mimic a scikit learn model that performs binary classification using the `aisquared` library."
   ]
  },
  {
   "cell_type": "code",
   "execution_count": 1,
   "metadata": {},
   "outputs": [],
   "source": [
    "# import all required packages\n",
    "from aisquared import utils\n",
    "from sklearn.tree import DecisionTreeClassifier\n",
    "from sklearn.datasets import load_breast_cancer\n",
    "from sklearn.model_selection import train_test_split\n",
    "from sklearn.metrics import confusion_matrix\n",
    "from sklearn.preprocessing import MinMaxScaler\n",
    "import numpy as np"
   ]
  },
  {
   "cell_type": "code",
   "execution_count": 2,
   "metadata": {},
   "outputs": [],
   "source": [
    "# Load the data and split into training and testing sets\n",
    "data = load_breast_cancer()['data']\n",
    "labels = load_breast_cancer()['target']\n",
    "\n",
    "x_train, x_test, y_train, y_test = train_test_split(data, labels)\n",
    "\n",
    "scaler = MinMaxScaler().fit(x_train)\n",
    "x_train = scaler.transform(x_train)\n",
    "x_test = scaler.transform(x_test)"
   ]
  },
  {
   "cell_type": "code",
   "execution_count": 3,
   "metadata": {},
   "outputs": [],
   "source": [
    "# Train the scikit-learn classifier\n",
    "clf = DecisionTreeClassifier(max_depth = 4).fit(x_train, y_train)"
   ]
  },
  {
   "cell_type": "code",
   "execution_count": 4,
   "metadata": {},
   "outputs": [],
   "source": [
    "# Create the neural network to train with\n",
    "nnet = utils.get_model('fc', x_train.shape[-1], 1, output_activation = 'sigmoid', size = 'medium')"
   ]
  },
  {
   "cell_type": "code",
   "execution_count": 5,
   "metadata": {},
   "outputs": [
    {
     "name": "stdout",
     "output_type": "stream",
     "text": [
      "Epoch 1/100\n"
     ]
    },
    {
     "name": "stderr",
     "output_type": "stream",
     "text": [
      "2023-01-05 14:38:55.187579: W tensorflow/core/platform/profile_utils/cpu_utils.cc:128] Failed to get CPU frequency: 0 Hz\n"
     ]
    },
    {
     "name": "stdout",
     "output_type": "stream",
     "text": [
      " 1/14 [=>............................] - ETA: 3s - loss: 0.6919 - accuracy: 0.3750Performance measure set to accuracy\n",
      "Model performance has not reached pruning threshold for 1 epoch(s)\n",
      "14/14 [==============================] - 0s 1ms/step - loss: 0.6337 - accuracy: 0.7418\n",
      "Epoch 2/100\n",
      " 1/14 [=>............................] - ETA: 0s - loss: 0.4938 - accuracy: 0.8750Model performance has not reached pruning threshold for 2 epoch(s)\n",
      "14/14 [==============================] - 0s 972us/step - loss: 0.3624 - accuracy: 0.8685\n",
      "Epoch 3/100\n",
      " 1/14 [=>............................] - ETA: 0s - loss: 0.1942 - accuracy: 0.9375Model performance reached 0.92, sparsifying to 5\n",
      "14/14 [==============================] - 0s 4ms/step - loss: 0.1873 - accuracy: 0.9178\n",
      "Epoch 4/100\n",
      " 1/14 [=>............................] - ETA: 0s - loss: 0.1415 - accuracy: 0.9375Model performance reached 0.93, sparsifying to 10\n",
      "14/14 [==============================] - 0s 4ms/step - loss: 0.1626 - accuracy: 0.9343\n",
      "Epoch 5/100\n",
      " 1/14 [=>............................] - ETA: 0s - loss: 0.2385 - accuracy: 0.9062Model performance reached 0.96, sparsifying to 15\n",
      "14/14 [==============================] - 0s 4ms/step - loss: 0.1025 - accuracy: 0.9601\n",
      "Epoch 6/100\n",
      " 1/14 [=>............................] - ETA: 0s - loss: 0.0820 - accuracy: 1.0000Model performance reached 0.97, sparsifying to 20\n",
      "14/14 [==============================] - 0s 4ms/step - loss: 0.0748 - accuracy: 0.9718\n",
      "Epoch 7/100\n",
      " 1/14 [=>............................] - ETA: 0s - loss: 0.0131 - accuracy: 1.0000Model performance reached 0.96, sparsifying to 25\n",
      "14/14 [==============================] - 0s 4ms/step - loss: 0.0707 - accuracy: 0.9648\n",
      "Epoch 8/100\n",
      " 1/14 [=>............................] - ETA: 0s - loss: 0.0840 - accuracy: 1.0000Model performance reached 0.98, sparsifying to 30\n",
      "14/14 [==============================] - 0s 4ms/step - loss: 0.0647 - accuracy: 0.9765\n",
      "Epoch 9/100\n",
      " 1/14 [=>............................] - ETA: 0s - loss: 0.0968 - accuracy: 0.9688Model performance reached 0.97, sparsifying to 35\n",
      "14/14 [==============================] - 0s 4ms/step - loss: 0.0572 - accuracy: 0.9742\n",
      "Epoch 10/100\n",
      " 1/14 [=>............................] - ETA: 0s - loss: 0.1414 - accuracy: 0.9375Model performance reached 0.96, sparsifying to 40\n",
      "14/14 [==============================] - 0s 4ms/step - loss: 0.0894 - accuracy: 0.9624\n",
      "Epoch 11/100\n",
      " 1/14 [=>............................] - ETA: 0s - loss: 0.1416 - accuracy: 0.9375Model performance reached 0.97, sparsifying to 45\n",
      "14/14 [==============================] - 0s 4ms/step - loss: 0.0652 - accuracy: 0.9718\n",
      "Epoch 12/100\n",
      " 1/14 [=>............................] - ETA: 0s - loss: 0.0766 - accuracy: 1.0000Model performance reached 0.98, sparsifying to 50\n",
      "14/14 [==============================] - 0s 4ms/step - loss: 0.0626 - accuracy: 0.9812\n",
      "Epoch 13/100\n",
      " 1/14 [=>............................] - ETA: 0s - loss: 0.0521 - accuracy: 1.0000Model performance reached 0.98, sparsifying to 55\n",
      "14/14 [==============================] - 0s 4ms/step - loss: 0.0599 - accuracy: 0.9836\n",
      "Epoch 14/100\n",
      " 1/14 [=>............................] - ETA: 0s - loss: 0.0381 - accuracy: 1.0000Model performance reached 0.99, sparsifying to 60\n",
      "14/14 [==============================] - 0s 4ms/step - loss: 0.0499 - accuracy: 0.9859\n",
      "Epoch 15/100\n",
      " 1/14 [=>............................] - ETA: 0s - loss: 0.1702 - accuracy: 0.8750Model performance reached 0.95, sparsifying to 65\n",
      "14/14 [==============================] - 0s 4ms/step - loss: 0.0853 - accuracy: 0.9531\n",
      "Epoch 16/100\n",
      " 1/14 [=>............................] - ETA: 0s - loss: 0.0686 - accuracy: 1.0000Model performance reached 0.98, sparsifying to 70\n",
      "14/14 [==============================] - 0s 4ms/step - loss: 0.0769 - accuracy: 0.9789\n",
      "Epoch 17/100\n",
      " 1/14 [=>............................] - ETA: 0s - loss: 0.0929 - accuracy: 1.0000Model performance reached 0.96, sparsifying to 75\n",
      "14/14 [==============================] - 0s 4ms/step - loss: 0.1042 - accuracy: 0.9554\n",
      "Epoch 18/100\n",
      " 1/14 [=>............................] - ETA: 0s - loss: 0.3942 - accuracy: 0.8750Model performance reached 0.92, sparsifying to 80\n",
      "14/14 [==============================] - 0s 4ms/step - loss: 0.2081 - accuracy: 0.9155\n",
      "Epoch 19/100\n",
      " 1/14 [=>............................] - ETA: 0s - loss: 1.0087 - accuracy: 0.3750Model performance has not reached pruning threshold for 1 epoch(s)\n",
      "14/14 [==============================] - 0s 1ms/step - loss: 0.5088 - accuracy: 0.7324\n",
      "Epoch 20/100\n",
      " 1/14 [=>............................] - ETA: 0s - loss: 0.2215 - accuracy: 0.9062Model performance has not reached pruning threshold for 2 epoch(s)\n",
      "14/14 [==============================] - 0s 1ms/step - loss: 0.2551 - accuracy: 0.8967\n",
      "Epoch 21/100\n",
      " 1/14 [=>............................] - ETA: 0s - loss: 0.1330 - accuracy: 0.9688Model performance reached 0.96, sparsifying to 85\n",
      "14/14 [==============================] - 0s 4ms/step - loss: 0.1532 - accuracy: 0.9577\n",
      "Epoch 22/100\n",
      " 1/14 [=>............................] - ETA: 0s - loss: 1.0415 - accuracy: 0.7188Model performance has not reached pruning threshold for 1 epoch(s)\n",
      "14/14 [==============================] - 0s 1ms/step - loss: 0.7652 - accuracy: 0.6761\n",
      "Epoch 23/100\n",
      " 1/14 [=>............................] - ETA: 0s - loss: 0.3376 - accuracy: 0.8438Model performance reached 0.94, sparsifying to 90\n",
      "14/14 [==============================] - 0s 4ms/step - loss: 0.3432 - accuracy: 0.9366\n",
      "Epoch 24/100\n",
      " 1/14 [=>............................] - ETA: 0s - loss: 0.6370 - accuracy: 0.4375Model performance has not reached pruning threshold for 1 epoch(s)\n",
      "14/14 [==============================] - 0s 1ms/step - loss: 0.6420 - accuracy: 0.4554\n",
      "Epoch 25/100\n",
      " 1/14 [=>............................] - ETA: 0s - loss: 0.5951 - accuracy: 0.5312Model performance has not reached pruning threshold for 2 epoch(s)\n",
      "14/14 [==============================] - 0s 1ms/step - loss: 0.6199 - accuracy: 0.5164\n",
      "Epoch 26/100\n",
      " 1/14 [=>............................] - ETA: 0s - loss: 0.5932 - accuracy: 0.5625Model performance has not reached pruning threshold for 3 epoch(s)\n",
      "14/14 [==============================] - 0s 1ms/step - loss: 0.5786 - accuracy: 0.6643\n",
      "Epoch 27/100\n",
      " 1/14 [=>............................] - ETA: 0s - loss: 0.5188 - accuracy: 0.7812Model performance has not reached pruning threshold for 4 epoch(s)\n",
      "14/14 [==============================] - 0s 1ms/step - loss: 0.5153 - accuracy: 0.8662\n",
      "Epoch 28/100\n",
      " 1/14 [=>............................] - ETA: 0s - loss: 0.4608 - accuracy: 0.9688Model performance reached 0.96, sparsifying to 95\n",
      "14/14 [==============================] - 0s 4ms/step - loss: 0.4376 - accuracy: 0.9554\n",
      "Epoch 29/100\n",
      " 1/14 [=>............................] - ETA: 0s - loss: 0.6954 - accuracy: 0.5312Model performance has not reached pruning threshold for 1 epoch(s)\n",
      "14/14 [==============================] - 0s 1ms/step - loss: 0.6621 - accuracy: 0.6385\n",
      "Epoch 30/100\n",
      " 1/14 [=>............................] - ETA: 0s - loss: 0.6934 - accuracy: 0.5312Model performance has not reached pruning threshold for 2 epoch(s)\n",
      "14/14 [==============================] - 0s 1ms/step - loss: 0.6592 - accuracy: 0.6385\n",
      "Epoch 31/100\n",
      " 1/14 [=>............................] - ETA: 0s - loss: 0.6524 - accuracy: 0.6562Model performance has not reached pruning threshold for 3 epoch(s)\n",
      "14/14 [==============================] - 0s 1ms/step - loss: 0.6565 - accuracy: 0.6385\n",
      "Epoch 32/100\n",
      " 1/14 [=>............................] - ETA: 0s - loss: 0.6335 - accuracy: 0.6875Model performance has not reached pruning threshold for 4 epoch(s)\n",
      "14/14 [==============================] - 0s 1ms/step - loss: 0.6540 - accuracy: 0.6385\n",
      "Epoch 33/100\n",
      " 1/14 [=>............................] - ETA: 0s - loss: 0.6060 - accuracy: 0.7500Model performance has not reached pruning threshold for 5 epoch(s)\n",
      "14/14 [==============================] - 0s 1ms/step - loss: 0.6509 - accuracy: 0.6408\n",
      "Epoch 34/100\n",
      " 1/14 [=>............................] - ETA: 0s - loss: 0.6806 - accuracy: 0.5625Model performance has not reached pruning threshold for 6 epoch(s)\n",
      "14/14 [==============================] - 0s 1ms/step - loss: 0.6477 - accuracy: 0.6408\n",
      "Epoch 35/100\n",
      " 1/14 [=>............................] - ETA: 0s - loss: 0.6239 - accuracy: 0.6875Model performance has not reached pruning threshold for 7 epoch(s)\n",
      "14/14 [==============================] - 0s 1ms/step - loss: 0.6437 - accuracy: 0.6408\n",
      "Epoch 36/100\n",
      " 1/14 [=>............................] - ETA: 0s - loss: 0.6042 - accuracy: 0.7188Model performance has not reached pruning threshold for 8 epoch(s)\n",
      "14/14 [==============================] - 0s 1ms/step - loss: 0.6387 - accuracy: 0.6408\n",
      "Epoch 37/100\n",
      " 1/14 [=>............................] - ETA: 0s - loss: 0.6133 - accuracy: 0.6875Model performance has not reached pruning threshold for 9 epoch(s)\n",
      "14/14 [==============================] - 0s 1ms/step - loss: 0.6312 - accuracy: 0.6408\n",
      "Epoch 38/100\n",
      " 1/14 [=>............................] - ETA: 0s - loss: 0.6238 - accuracy: 0.6250Model performance has not reached pruning threshold for 10 epoch(s)\n",
      "Model performance has not reached pruning threshold for 10 epochs, reverting to 90 sparsification and beginning early stopping\n",
      "14/14 [==============================] - 0s 1ms/step - loss: 0.6174 - accuracy: 0.6502\n",
      "Epoch 39/100\n",
      " 1/14 [=>............................] - ETA: 0s - loss: 0.4103 - accuracy: 0.9375Early stopping performance has not met threshold for 1 epochs\n",
      "14/14 [==============================] - 0s 1ms/step - loss: 0.3672 - accuracy: 0.9577\n",
      "Epoch 40/100\n",
      " 1/14 [=>............................] - ETA: 0s - loss: 0.2887 - accuracy: 1.0000Early stopping performance has not met threshold for 2 epochs\n",
      "14/14 [==============================] - 0s 1ms/step - loss: 0.2822 - accuracy: 0.9624\n",
      "Epoch 41/100\n",
      " 1/14 [=>............................] - ETA: 0s - loss: 0.2524 - accuracy: 0.9062Early stopping performance has not met threshold for 3 epochs\n",
      "14/14 [==============================] - 0s 1ms/step - loss: 0.1934 - accuracy: 0.9577\n",
      "Epoch 42/100\n",
      " 1/14 [=>............................] - ETA: 0s - loss: 0.1480 - accuracy: 1.0000Early stopping performance has not met threshold for 4 epochs\n",
      "14/14 [==============================] - 0s 1ms/step - loss: 0.1365 - accuracy: 0.9577\n",
      "Epoch 43/100\n",
      " 1/14 [=>............................] - ETA: 0s - loss: 0.1218 - accuracy: 0.9375Early stopping performance has not met threshold for 5 epochs\n",
      "Model performance has not met early stopping criteria. Stopping training\n",
      "14/14 [==============================] - 0s 1ms/step - loss: 0.1080 - accuracy: 0.9577\n",
      "5/5 [==============================] - 0s 573us/step\n",
      "ORIGINAL PERFORMANCE:\n",
      "[[47  6]\n",
      " [ 2 88]]\n",
      "              precision    recall  f1-score   support\n",
      "\n",
      "           0       0.96      0.89      0.92        53\n",
      "           1       0.94      0.98      0.96        90\n",
      "\n",
      "    accuracy                           0.94       143\n",
      "   macro avg       0.95      0.93      0.94       143\n",
      "weighted avg       0.94      0.94      0.94       143\n",
      "\n",
      "\n",
      "\n",
      "\n",
      "MIMIC PERFORMANCE:\n",
      "\n",
      "\n",
      "Relative to First Model:\n",
      "[[43  6]\n",
      " [ 8 86]]\n",
      "              precision    recall  f1-score   support\n",
      "\n",
      "           0       0.84      0.88      0.86        49\n",
      "           1       0.93      0.91      0.92        94\n",
      "\n",
      "    accuracy                           0.90       143\n",
      "   macro avg       0.89      0.90      0.89       143\n",
      "weighted avg       0.90      0.90      0.90       143\n",
      "\n",
      "\n",
      "\n",
      "Relative to Original:\n",
      "[[46  7]\n",
      " [ 5 85]]\n",
      "              precision    recall  f1-score   support\n",
      "\n",
      "           0       0.90      0.87      0.88        53\n",
      "           1       0.92      0.94      0.93        90\n",
      "\n",
      "    accuracy                           0.92       143\n",
      "   macro avg       0.91      0.91      0.91       143\n",
      "weighted avg       0.92      0.92      0.92       143\n",
      "\n"
     ]
    }
   ],
   "source": [
    "# Use the mimic_model function to train the neural network to replicate the original model's performance\n",
    "nnet = utils.mimic_model(\n",
    "clf,\n",
    "nnet,\n",
    "x_train,\n",
    "x_test,\n",
    "y_test,\n",
    "'classification',\n",
    "'binary_crossentropy',\n",
    "'accuracy',\n",
    "'adam'\n",
    ")"
   ]
  },
  {
   "cell_type": "code",
   "execution_count": 6,
   "metadata": {},
   "outputs": [
    {
     "name": "stdout",
     "output_type": "stream",
     "text": [
      "5/5 [==============================] - 0s 582us/step\n"
     ]
    }
   ],
   "source": [
    "# Get the predictions on test data from the original classifier and the neural network\n",
    "clf_preds = clf.predict(x_test)\n",
    "nnet_preds = (nnet.predict(x_test) >= 0.5).astype(int)"
   ]
  },
  {
   "cell_type": "code",
   "execution_count": 7,
   "metadata": {},
   "outputs": [
    {
     "name": "stdout",
     "output_type": "stream",
     "text": [
      "Performance on test data for original model:\n",
      "[[47  6]\n",
      " [ 2 88]]\n",
      "\n",
      "\n",
      "\n",
      "Performance on test data for neural network:\n",
      "[[46  7]\n",
      " [ 5 85]]\n"
     ]
    }
   ],
   "source": [
    "# Present the confusion matrices for both models\n",
    "\n",
    "print('Performance on test data for original model:')\n",
    "print(confusion_matrix(y_test, clf_preds))\n",
    "\n",
    "print('\\n\\n')\n",
    "\n",
    "print('Performance on test data for neural network:')\n",
    "print(confusion_matrix(y_test, nnet_preds))"
   ]
  }
 ],
 "metadata": {
  "kernelspec": {
   "display_name": "base",
   "language": "python",
   "name": "python3"
  },
  "language_info": {
   "codemirror_mode": {
    "name": "ipython",
    "version": 3
   },
   "file_extension": ".py",
   "mimetype": "text/x-python",
   "name": "python",
   "nbconvert_exporter": "python",
   "pygments_lexer": "ipython3",
   "version": "3.10.8"
  },
  "orig_nbformat": 4,
  "vscode": {
   "interpreter": {
    "hash": "0671325c08d22fc44ce2e58aedbf8efae69ce5eb9c1911bbe321ecb24080d883"
   }
  }
 },
 "nbformat": 4,
 "nbformat_minor": 2
}
