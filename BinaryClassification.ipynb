{
 "cells": [
  {
   "attachments": {},
   "cell_type": "markdown",
   "metadata": {},
   "source": [
    "# Binary Classification Example\n",
    "\n",
    "In this notebook, we will go over how to mimic a scikit learn model that performs binary classification using the `aisquared` library."
   ]
  },
  {
   "cell_type": "code",
   "execution_count": 1,
   "metadata": {},
   "outputs": [],
   "source": [
    "# import all required packages\n",
    "from aisquared import utils\n",
    "from sklearn.tree import DecisionTreeClassifier\n",
    "from sklearn.datasets import load_breast_cancer\n",
    "from sklearn.model_selection import train_test_split\n",
    "from sklearn.metrics import confusion_matrix\n",
    "from sklearn.preprocessing import MinMaxScaler\n",
    "import numpy as np"
   ]
  },
  {
   "cell_type": "code",
   "execution_count": 2,
   "metadata": {},
   "outputs": [],
   "source": [
    "# Load the data and split into training and testing sets\n",
    "data = load_breast_cancer()['data']\n",
    "labels = load_breast_cancer()['target']\n",
    "\n",
    "x_train, x_test, y_train, y_test = train_test_split(data, labels)\n",
    "\n",
    "scaler = MinMaxScaler().fit(x_train)\n",
    "x_train = scaler.transform(x_train)\n",
    "x_test = scaler.transform(x_test)"
   ]
  },
  {
   "cell_type": "code",
   "execution_count": 3,
   "metadata": {},
   "outputs": [],
   "source": [
    "# Train the scikit-learn classifier\n",
    "clf = DecisionTreeClassifier(max_depth = 4).fit(x_train, y_train)"
   ]
  },
  {
   "cell_type": "code",
   "execution_count": 4,
   "metadata": {},
   "outputs": [],
   "source": [
    "# Create the neural network to train with\n",
    "nnet = utils.get_model('fc', x_train.shape[-1], 1, output_activation = 'sigmoid', size = 'medium')"
   ]
  },
  {
   "cell_type": "code",
   "execution_count": 5,
   "metadata": {},
   "outputs": [
    {
     "name": "stdout",
     "output_type": "stream",
     "text": [
      "Epoch 1/100\n"
     ]
    },
    {
     "name": "stderr",
     "output_type": "stream",
     "text": [
      "2023-01-05 14:30:35.770935: W tensorflow/core/platform/profile_utils/cpu_utils.cc:128] Failed to get CPU frequency: 0 Hz\n"
     ]
    },
    {
     "name": "stdout",
     "output_type": "stream",
     "text": [
      " 1/14 [=>............................] - ETA: 3s - loss: 0.6912 - accuracy: 0.6562Performance measure set to accuracy\n",
      "Model performance has not reached pruning threshold for 1 epoch(s)\n",
      "14/14 [==============================] - 0s 1ms/step - loss: 0.6291 - accuracy: 0.7770\n",
      "Epoch 2/100\n",
      " 1/14 [=>............................] - ETA: 0s - loss: 0.5319 - accuracy: 0.7188Model performance has not reached pruning threshold for 2 epoch(s)\n",
      "14/14 [==============================] - 0s 1ms/step - loss: 0.3523 - accuracy: 0.8920\n",
      "Epoch 3/100\n",
      " 1/14 [=>............................] - ETA: 0s - loss: 0.1238 - accuracy: 0.9375Model performance reached 0.92, sparsifying to 5\n",
      "14/14 [==============================] - 0s 6ms/step - loss: 0.2087 - accuracy: 0.9178\n",
      "Epoch 4/100\n",
      " 1/14 [=>............................] - ETA: 0s - loss: 0.2828 - accuracy: 0.8438Model performance reached 0.94, sparsifying to 10\n",
      "14/14 [==============================] - 0s 5ms/step - loss: 0.1439 - accuracy: 0.9390\n",
      "Epoch 5/100\n",
      " 1/14 [=>............................] - ETA: 0s - loss: 0.1433 - accuracy: 0.9062Model performance reached 0.96, sparsifying to 15\n",
      "14/14 [==============================] - 0s 5ms/step - loss: 0.0926 - accuracy: 0.9601\n",
      "Epoch 6/100\n",
      " 1/14 [=>............................] - ETA: 0s - loss: 0.0313 - accuracy: 1.0000Model performance reached 0.97, sparsifying to 20\n",
      "14/14 [==============================] - 0s 6ms/step - loss: 0.0700 - accuracy: 0.9718\n",
      "Epoch 7/100\n",
      " 1/14 [=>............................] - ETA: 0s - loss: 0.0548 - accuracy: 0.9688Model performance reached 0.96, sparsifying to 25\n",
      "14/14 [==============================] - 0s 6ms/step - loss: 0.0892 - accuracy: 0.9601\n",
      "Epoch 8/100\n",
      " 1/14 [=>............................] - ETA: 0s - loss: 0.0465 - accuracy: 0.9688Model performance reached 0.98, sparsifying to 30\n",
      "14/14 [==============================] - 0s 5ms/step - loss: 0.0533 - accuracy: 0.9812\n",
      "Epoch 9/100\n",
      " 1/14 [=>............................] - ETA: 0s - loss: 0.1006 - accuracy: 0.9688Model performance reached 0.97, sparsifying to 35\n",
      "14/14 [==============================] - 0s 5ms/step - loss: 0.0560 - accuracy: 0.9742\n",
      "Epoch 10/100\n",
      " 1/14 [=>............................] - ETA: 0s - loss: 0.1667 - accuracy: 0.9062Model performance reached 0.97, sparsifying to 40\n",
      "14/14 [==============================] - 0s 5ms/step - loss: 0.0694 - accuracy: 0.9718\n",
      "Epoch 11/100\n",
      " 1/14 [=>............................] - ETA: 0s - loss: 0.0275 - accuracy: 1.0000Model performance reached 0.99, sparsifying to 45\n",
      "14/14 [==============================] - 0s 5ms/step - loss: 0.0339 - accuracy: 0.9859\n",
      "Epoch 12/100\n",
      " 1/14 [=>............................] - ETA: 0s - loss: 0.0162 - accuracy: 1.0000Model performance reached 0.98, sparsifying to 50\n",
      "14/14 [==============================] - 0s 4ms/step - loss: 0.0367 - accuracy: 0.9812\n",
      "Epoch 13/100\n",
      " 1/14 [=>............................] - ETA: 0s - loss: 0.0897 - accuracy: 0.9688Model performance reached 0.98, sparsifying to 55\n",
      "14/14 [==============================] - 0s 5ms/step - loss: 0.0706 - accuracy: 0.9765\n",
      "Epoch 14/100\n",
      " 1/14 [=>............................] - ETA: 0s - loss: 0.4128 - accuracy: 0.8750Model performance reached 0.96, sparsifying to 60\n",
      "14/14 [==============================] - 0s 5ms/step - loss: 0.1216 - accuracy: 0.9554\n",
      "Epoch 15/100\n",
      " 1/14 [=>............................] - ETA: 0s - loss: 0.2034 - accuracy: 0.8750Model performance reached 0.96, sparsifying to 65\n",
      "14/14 [==============================] - 0s 5ms/step - loss: 0.0977 - accuracy: 0.9577\n",
      "Epoch 16/100\n",
      " 1/14 [=>............................] - ETA: 0s - loss: 0.0571 - accuracy: 0.9688Model performance reached 0.97, sparsifying to 70\n",
      "14/14 [==============================] - 0s 5ms/step - loss: 0.0765 - accuracy: 0.9718\n",
      "Epoch 17/100\n",
      " 1/14 [=>............................] - ETA: 0s - loss: 0.1020 - accuracy: 0.9688Model performance reached 0.99, sparsifying to 75\n",
      "14/14 [==============================] - 0s 4ms/step - loss: 0.0583 - accuracy: 0.9859\n",
      "Epoch 18/100\n",
      " 1/14 [=>............................] - ETA: 0s - loss: 0.0703 - accuracy: 0.9688Model performance reached 0.97, sparsifying to 80\n",
      "14/14 [==============================] - 0s 4ms/step - loss: 0.0862 - accuracy: 0.9695\n",
      "Epoch 19/100\n",
      " 1/14 [=>............................] - ETA: 0s - loss: 0.0775 - accuracy: 0.9688Model performance reached 0.96, sparsifying to 85\n",
      "14/14 [==============================] - 0s 4ms/step - loss: 0.1094 - accuracy: 0.9624\n",
      "Epoch 20/100\n",
      " 1/14 [=>............................] - ETA: 0s - loss: 0.2380 - accuracy: 0.9375Model performance reached 0.94, sparsifying to 90\n",
      "14/14 [==============================] - 0s 5ms/step - loss: 0.1789 - accuracy: 0.9390\n",
      "Epoch 21/100\n",
      " 1/14 [=>............................] - ETA: 0s - loss: 1.2074 - accuracy: 0.6250Model performance has not reached pruning threshold for 1 epoch(s)\n",
      "14/14 [==============================] - 0s 1ms/step - loss: 0.8922 - accuracy: 0.6268\n",
      "Epoch 22/100\n",
      " 1/14 [=>............................] - ETA: 0s - loss: 0.6819 - accuracy: 0.5312Model performance has not reached pruning threshold for 2 epoch(s)\n",
      "14/14 [==============================] - 0s 1ms/step - loss: 0.5096 - accuracy: 0.8310\n",
      "Epoch 23/100\n",
      " 1/14 [=>............................] - ETA: 0s - loss: 0.4943 - accuracy: 0.8750Model performance reached 0.95, sparsifying to 95\n",
      "14/14 [==============================] - 0s 5ms/step - loss: 0.4355 - accuracy: 0.9484\n",
      "Epoch 24/100\n",
      " 1/14 [=>............................] - ETA: 0s - loss: 0.8459 - accuracy: 0.2500Model performance has not reached pruning threshold for 1 epoch(s)\n",
      "14/14 [==============================] - 0s 1ms/step - loss: 0.7454 - accuracy: 0.3732\n",
      "Epoch 25/100\n",
      " 1/14 [=>............................] - ETA: 0s - loss: 0.6690 - accuracy: 0.4375Model performance has not reached pruning threshold for 2 epoch(s)\n",
      "14/14 [==============================] - 0s 1ms/step - loss: 0.6780 - accuracy: 0.3732\n",
      "Epoch 26/100\n",
      " 1/14 [=>............................] - ETA: 0s - loss: 0.6831 - accuracy: 0.3438Model performance has not reached pruning threshold for 3 epoch(s)\n",
      "14/14 [==============================] - 0s 1ms/step - loss: 0.6539 - accuracy: 0.3850\n",
      "Epoch 27/100\n",
      " 1/14 [=>............................] - ETA: 0s - loss: 0.6786 - accuracy: 0.4062Model performance has not reached pruning threshold for 4 epoch(s)\n",
      "14/14 [==============================] - 0s 2ms/step - loss: 0.6449 - accuracy: 0.4296\n",
      "Epoch 28/100\n",
      " 1/14 [=>............................] - ETA: 0s - loss: 0.6677 - accuracy: 0.4688Model performance has not reached pruning threshold for 5 epoch(s)\n",
      "14/14 [==============================] - 0s 1ms/step - loss: 0.6356 - accuracy: 0.4836\n",
      "Epoch 29/100\n",
      " 1/14 [=>............................] - ETA: 0s - loss: 0.6137 - accuracy: 0.5625Model performance has not reached pruning threshold for 6 epoch(s)\n",
      "14/14 [==============================] - 0s 1ms/step - loss: 0.6252 - accuracy: 0.5540\n",
      "Epoch 30/100\n",
      " 1/14 [=>............................] - ETA: 0s - loss: 0.6202 - accuracy: 0.5938Model performance has not reached pruning threshold for 7 epoch(s)\n",
      "14/14 [==============================] - 0s 1ms/step - loss: 0.6121 - accuracy: 0.6432\n",
      "Epoch 31/100\n",
      " 1/14 [=>............................] - ETA: 0s - loss: 0.5950 - accuracy: 0.7188Model performance has not reached pruning threshold for 8 epoch(s)\n",
      "14/14 [==============================] - 0s 1ms/step - loss: 0.5960 - accuracy: 0.7277\n",
      "Epoch 32/100\n",
      " 1/14 [=>............................] - ETA: 0s - loss: 0.5899 - accuracy: 0.7188Model performance has not reached pruning threshold for 9 epoch(s)\n",
      "14/14 [==============================] - 0s 1ms/step - loss: 0.5764 - accuracy: 0.8286\n",
      "Epoch 33/100\n",
      " 1/14 [=>............................] - ETA: 0s - loss: 0.4957 - accuracy: 0.9688Model performance has not reached pruning threshold for 10 epoch(s)\n",
      "Model performance has not reached pruning threshold for 10 epochs, reverting to 90 sparsification and beginning early stopping\n",
      "14/14 [==============================] - 0s 1ms/step - loss: 0.5530 - accuracy: 0.8732\n",
      "Epoch 34/100\n",
      " 1/14 [=>............................] - ETA: 0s - loss: 0.3554 - accuracy: 1.0000Model performance improved to 0.97\n",
      "14/14 [==============================] - 0s 1ms/step - loss: 0.3447 - accuracy: 0.9742\n",
      "Epoch 35/100\n",
      " 1/14 [=>............................] - ETA: 0s - loss: 0.3061 - accuracy: 0.9688Early stopping performance has not met threshold for 1 epochs\n",
      "14/14 [==============================] - 0s 1ms/step - loss: 0.2523 - accuracy: 0.9577\n",
      "Epoch 36/100\n",
      " 1/14 [=>............................] - ETA: 0s - loss: 0.2347 - accuracy: 0.9375Early stopping performance has not met threshold for 2 epochs\n",
      "14/14 [==============================] - 0s 1ms/step - loss: 0.1668 - accuracy: 0.9718\n",
      "Epoch 37/100\n",
      " 1/14 [=>............................] - ETA: 0s - loss: 0.1495 - accuracy: 0.9375Early stopping performance has not met threshold for 3 epochs\n",
      "14/14 [==============================] - 0s 1ms/step - loss: 0.1208 - accuracy: 0.9624\n",
      "Epoch 38/100\n",
      " 1/14 [=>............................] - ETA: 0s - loss: 0.1078 - accuracy: 1.0000Early stopping performance has not met threshold for 4 epochs\n",
      "14/14 [==============================] - 0s 1ms/step - loss: 0.0954 - accuracy: 0.9742\n",
      "Epoch 39/100\n",
      " 1/14 [=>............................] - ETA: 0s - loss: 0.0443 - accuracy: 1.0000Early stopping performance has not met threshold for 5 epochs\n",
      "Model performance has not met early stopping criteria. Stopping training\n",
      "14/14 [==============================] - 0s 1ms/step - loss: 0.0899 - accuracy: 0.9601\n",
      "5/5 [==============================] - 0s 825us/step\n",
      "ORIGINAL PERFORMANCE:\n",
      "[[42  8]\n",
      " [ 5 88]]\n",
      "              precision    recall  f1-score   support\n",
      "\n",
      "           0       0.89      0.84      0.87        50\n",
      "           1       0.92      0.95      0.93        93\n",
      "\n",
      "    accuracy                           0.91       143\n",
      "   macro avg       0.91      0.89      0.90       143\n",
      "weighted avg       0.91      0.91      0.91       143\n",
      "\n",
      "\n",
      "\n",
      "\n",
      "MIMIC PERFORMANCE:\n",
      "\n",
      "\n",
      "Relative to First Model:\n",
      "[[47  0]\n",
      " [96  0]]\n",
      "              precision    recall  f1-score   support\n",
      "\n",
      "           0       0.33      1.00      0.49        47\n",
      "           1       0.00      0.00      0.00        96\n",
      "\n",
      "    accuracy                           0.33       143\n",
      "   macro avg       0.16      0.50      0.25       143\n",
      "weighted avg       0.11      0.33      0.16       143\n",
      "\n",
      "\n",
      "\n",
      "Relative to Original:\n",
      "[[50  0]\n",
      " [93  0]]\n",
      "              precision    recall  f1-score   support\n",
      "\n",
      "           0       0.35      1.00      0.52        50\n",
      "           1       0.00      0.00      0.00        93\n",
      "\n",
      "    accuracy                           0.35       143\n",
      "   macro avg       0.17      0.50      0.26       143\n",
      "weighted avg       0.12      0.35      0.18       143\n",
      "\n"
     ]
    },
    {
     "name": "stderr",
     "output_type": "stream",
     "text": [
      "/Users/jwrenn4/miniforge3/lib/python3.10/site-packages/sklearn/metrics/_classification.py:1334: UndefinedMetricWarning: Precision and F-score are ill-defined and being set to 0.0 in labels with no predicted samples. Use `zero_division` parameter to control this behavior.\n",
      "  _warn_prf(average, modifier, msg_start, len(result))\n",
      "/Users/jwrenn4/miniforge3/lib/python3.10/site-packages/sklearn/metrics/_classification.py:1334: UndefinedMetricWarning: Precision and F-score are ill-defined and being set to 0.0 in labels with no predicted samples. Use `zero_division` parameter to control this behavior.\n",
      "  _warn_prf(average, modifier, msg_start, len(result))\n",
      "/Users/jwrenn4/miniforge3/lib/python3.10/site-packages/sklearn/metrics/_classification.py:1334: UndefinedMetricWarning: Precision and F-score are ill-defined and being set to 0.0 in labels with no predicted samples. Use `zero_division` parameter to control this behavior.\n",
      "  _warn_prf(average, modifier, msg_start, len(result))\n",
      "/Users/jwrenn4/miniforge3/lib/python3.10/site-packages/sklearn/metrics/_classification.py:1334: UndefinedMetricWarning: Precision and F-score are ill-defined and being set to 0.0 in labels with no predicted samples. Use `zero_division` parameter to control this behavior.\n",
      "  _warn_prf(average, modifier, msg_start, len(result))\n",
      "/Users/jwrenn4/miniforge3/lib/python3.10/site-packages/sklearn/metrics/_classification.py:1334: UndefinedMetricWarning: Precision and F-score are ill-defined and being set to 0.0 in labels with no predicted samples. Use `zero_division` parameter to control this behavior.\n",
      "  _warn_prf(average, modifier, msg_start, len(result))\n",
      "/Users/jwrenn4/miniforge3/lib/python3.10/site-packages/sklearn/metrics/_classification.py:1334: UndefinedMetricWarning: Precision and F-score are ill-defined and being set to 0.0 in labels with no predicted samples. Use `zero_division` parameter to control this behavior.\n",
      "  _warn_prf(average, modifier, msg_start, len(result))\n"
     ]
    }
   ],
   "source": [
    "# Use the mimic_model function to train the neural network to replicate the original model's performance\n",
    "nnet = utils.mimic_model(\n",
    "clf,\n",
    "nnet,\n",
    "x_train,\n",
    "x_test,\n",
    "y_test,\n",
    "'classification',\n",
    "'binary_crossentropy',\n",
    "'accuracy',\n",
    "'adam'\n",
    ")"
   ]
  },
  {
   "cell_type": "code",
   "execution_count": 6,
   "metadata": {},
   "outputs": [
    {
     "name": "stdout",
     "output_type": "stream",
     "text": [
      "5/5 [==============================] - 0s 766us/step\n"
     ]
    }
   ],
   "source": [
    "# Get the predictions on test data from the original classifier and the neural network\n",
    "clf_preds = clf.predict(x_test)\n",
    "nnet_preds = (nnet.predict(x_test) >= 0.5).astype(int)"
   ]
  },
  {
   "cell_type": "code",
   "execution_count": 7,
   "metadata": {},
   "outputs": [
    {
     "name": "stdout",
     "output_type": "stream",
     "text": [
      "Performance on test data for original model:\n",
      "[[42  8]\n",
      " [ 5 88]]\n",
      "\n",
      "\n",
      "\n",
      "Performance on test data for neural network:\n",
      "[[47  3]\n",
      " [ 2 91]]\n"
     ]
    }
   ],
   "source": [
    "# Present the confusion matrices for both models\n",
    "\n",
    "print('Performance on test data for original model:')\n",
    "print(confusion_matrix(y_test, clf_preds))\n",
    "\n",
    "print('\\n\\n')\n",
    "\n",
    "print('Performance on test data for neural network:')\n",
    "print(confusion_matrix(y_test, nnet_preds))"
   ]
  }
 ],
 "metadata": {
  "kernelspec": {
   "display_name": "base",
   "language": "python",
   "name": "python3"
  },
  "language_info": {
   "codemirror_mode": {
    "name": "ipython",
    "version": 3
   },
   "file_extension": ".py",
   "mimetype": "text/x-python",
   "name": "python",
   "nbconvert_exporter": "python",
   "pygments_lexer": "ipython3",
   "version": "3.10.8"
  },
  "orig_nbformat": 4,
  "vscode": {
   "interpreter": {
    "hash": "0671325c08d22fc44ce2e58aedbf8efae69ce5eb9c1911bbe321ecb24080d883"
   }
  }
 },
 "nbformat": 4,
 "nbformat_minor": 2
}
