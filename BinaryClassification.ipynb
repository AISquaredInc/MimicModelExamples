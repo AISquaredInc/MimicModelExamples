{
 "cells": [
  {
   "attachments": {},
   "cell_type": "markdown",
   "metadata": {},
   "source": [
    "# Binary Classification Example\n",
    "\n",
    "In this notebook, we will go over how to mimic a scikit learn model that performs binary classification using the `aisquared` library."
   ]
  },
  {
   "cell_type": "code",
   "execution_count": 1,
   "metadata": {},
   "outputs": [],
   "source": [
    "# import all required packages\n",
    "from aisquared import utils\n",
    "from sklearn.tree import DecisionTreeClassifier\n",
    "from sklearn.datasets import load_breast_cancer\n",
    "from sklearn.model_selection import train_test_split\n",
    "from sklearn.metrics import confusion_matrix\n",
    "from sklearn.preprocessing import MinMaxScaler\n",
    "import numpy as np"
   ]
  },
  {
   "cell_type": "code",
   "execution_count": 2,
   "metadata": {},
   "outputs": [],
   "source": [
    "# Load the data and split into training and testing sets\n",
    "data = load_breast_cancer()['data']\n",
    "labels = load_breast_cancer()['target']\n",
    "\n",
    "x_train, x_test, y_train, y_test = train_test_split(data, labels)\n",
    "\n",
    "scaler = MinMaxScaler().fit(x_train)\n",
    "x_train = scaler.transform(x_train)\n",
    "x_test = scaler.transform(x_test)"
   ]
  },
  {
   "cell_type": "code",
   "execution_count": 3,
   "metadata": {},
   "outputs": [],
   "source": [
    "# Train the scikit-learn classifier\n",
    "clf = DecisionTreeClassifier(max_depth = 4).fit(x_train, y_train)"
   ]
  },
  {
   "cell_type": "code",
   "execution_count": 4,
   "metadata": {},
   "outputs": [],
   "source": [
    "# Create the neural network to train with\n",
    "nnet = utils.get_model('fc', x_train.shape[-1], 1, output_activation = 'sigmoid', size = 'medium')"
   ]
  },
  {
   "cell_type": "code",
   "execution_count": 5,
   "metadata": {},
   "outputs": [
    {
     "name": "stdout",
     "output_type": "stream",
     "text": [
      "Epoch 1/100\n"
     ]
    },
    {
     "name": "stderr",
     "output_type": "stream",
     "text": [
      "2023-01-05 14:06:15.260923: W tensorflow/core/platform/profile_utils/cpu_utils.cc:128] Failed to get CPU frequency: 0 Hz\n"
     ]
    },
    {
     "name": "stdout",
     "output_type": "stream",
     "text": [
      " 1/14 [=>............................] - ETA: 3s - loss: 0.6923 - accuracy: 0.4062Performance measure set to accuracy\n",
      "Model performance has not reached pruning threshold for 1 epoch(s)\n",
      "14/14 [==============================] - 0s 1ms/step - loss: 0.6274 - accuracy: 0.7958\n",
      "Epoch 2/100\n",
      " 1/14 [=>............................] - ETA: 0s - loss: 0.4347 - accuracy: 0.9375Model performance reached 0.91, sparsifying to 5\n",
      "14/14 [==============================] - 0s 4ms/step - loss: 0.3109 - accuracy: 0.9085\n",
      "Epoch 3/100\n",
      " 1/14 [=>............................] - ETA: 0s - loss: 0.0706 - accuracy: 0.9688Model performance reached 0.91, sparsifying to 10\n",
      "14/14 [==============================] - 0s 4ms/step - loss: 0.2127 - accuracy: 0.9108\n",
      "Epoch 4/100\n",
      " 1/14 [=>............................] - ETA: 0s - loss: 0.0737 - accuracy: 0.9688Model performance reached 0.93, sparsifying to 15\n",
      "14/14 [==============================] - 0s 4ms/step - loss: 0.1780 - accuracy: 0.9272\n",
      "Epoch 5/100\n",
      " 1/14 [=>............................] - ETA: 0s - loss: 0.0682 - accuracy: 1.0000Model performance reached 0.95, sparsifying to 20\n",
      "14/14 [==============================] - 0s 5ms/step - loss: 0.1424 - accuracy: 0.9460\n",
      "Epoch 6/100\n",
      " 1/14 [=>............................] - ETA: 0s - loss: 0.2041 - accuracy: 0.9375Model performance reached 0.97, sparsifying to 25\n",
      "14/14 [==============================] - 0s 4ms/step - loss: 0.1009 - accuracy: 0.9742\n",
      "Epoch 7/100\n",
      " 1/14 [=>............................] - ETA: 0s - loss: 0.1680 - accuracy: 0.9375Model performance reached 0.96, sparsifying to 30\n",
      "14/14 [==============================] - 0s 4ms/step - loss: 0.0905 - accuracy: 0.9577\n",
      "Epoch 8/100\n",
      " 1/14 [=>............................] - ETA: 0s - loss: 0.3647 - accuracy: 0.8125Model performance reached 0.97, sparsifying to 35\n",
      "14/14 [==============================] - 0s 5ms/step - loss: 0.0814 - accuracy: 0.9718\n",
      "Epoch 9/100\n",
      " 1/14 [=>............................] - ETA: 0s - loss: 0.0720 - accuracy: 0.9688Model performance reached 0.96, sparsifying to 40\n",
      "14/14 [==============================] - 0s 4ms/step - loss: 0.1201 - accuracy: 0.9601\n",
      "Epoch 10/100\n",
      " 1/14 [=>............................] - ETA: 0s - loss: 0.0425 - accuracy: 1.0000Model performance reached 0.97, sparsifying to 45\n",
      "14/14 [==============================] - 0s 5ms/step - loss: 0.0862 - accuracy: 0.9671\n",
      "Epoch 11/100\n",
      " 1/14 [=>............................] - ETA: 0s - loss: 0.2060 - accuracy: 0.9375Model performance reached 0.95, sparsifying to 50\n",
      "14/14 [==============================] - 0s 4ms/step - loss: 0.1197 - accuracy: 0.9484\n",
      "Epoch 12/100\n",
      " 1/14 [=>............................] - ETA: 0s - loss: 0.1305 - accuracy: 0.9688Model performance reached 0.97, sparsifying to 55\n",
      "14/14 [==============================] - 0s 4ms/step - loss: 0.0664 - accuracy: 0.9742\n",
      "Epoch 13/100\n",
      " 1/14 [=>............................] - ETA: 0s - loss: 0.0724 - accuracy: 0.9688Model performance reached 0.98, sparsifying to 60\n",
      "14/14 [==============================] - 0s 4ms/step - loss: 0.0661 - accuracy: 0.9789\n",
      "Epoch 14/100\n",
      " 1/14 [=>............................] - ETA: 0s - loss: 0.0722 - accuracy: 1.0000Model performance reached 0.96, sparsifying to 65\n",
      "14/14 [==============================] - 0s 4ms/step - loss: 0.0969 - accuracy: 0.9577\n",
      "Epoch 15/100\n",
      " 1/14 [=>............................] - ETA: 0s - loss: 0.4927 - accuracy: 0.8438Model performance reached 0.95, sparsifying to 70\n",
      "14/14 [==============================] - 0s 5ms/step - loss: 0.1401 - accuracy: 0.9507\n",
      "Epoch 16/100\n",
      " 1/14 [=>............................] - ETA: 0s - loss: 0.1124 - accuracy: 0.9688Model performance reached 0.96, sparsifying to 75\n",
      "14/14 [==============================] - 0s 4ms/step - loss: 0.1303 - accuracy: 0.9577\n",
      "Epoch 17/100\n",
      " 1/14 [=>............................] - ETA: 0s - loss: 0.1559 - accuracy: 0.9062Model performance reached 0.95, sparsifying to 80\n",
      "14/14 [==============================] - 0s 4ms/step - loss: 0.1421 - accuracy: 0.9507\n",
      "Epoch 18/100\n",
      " 1/14 [=>............................] - ETA: 0s - loss: 0.8954 - accuracy: 0.3750Model performance has not reached pruning threshold for 1 epoch(s)\n",
      "14/14 [==============================] - 0s 1ms/step - loss: 0.4081 - accuracy: 0.7887\n",
      "Epoch 19/100\n",
      " 1/14 [=>............................] - ETA: 0s - loss: 0.3544 - accuracy: 0.8438Model performance reached 0.95, sparsifying to 85\n",
      "14/14 [==============================] - 0s 4ms/step - loss: 0.1694 - accuracy: 0.9460\n",
      "Epoch 20/100\n",
      " 1/14 [=>............................] - ETA: 0s - loss: 1.1063 - accuracy: 0.5938Model performance has not reached pruning threshold for 1 epoch(s)\n",
      "14/14 [==============================] - 0s 1ms/step - loss: 0.6050 - accuracy: 0.7394\n",
      "Epoch 21/100\n",
      " 1/14 [=>............................] - ETA: 0s - loss: 0.3693 - accuracy: 0.8750Model performance reached 0.95, sparsifying to 90\n",
      "14/14 [==============================] - 0s 4ms/step - loss: 0.3340 - accuracy: 0.9460\n",
      "Epoch 22/100\n",
      " 1/14 [=>............................] - ETA: 0s - loss: 0.8078 - accuracy: 0.3438Model performance has not reached pruning threshold for 1 epoch(s)\n",
      "14/14 [==============================] - 0s 1ms/step - loss: 0.7572 - accuracy: 0.3568\n",
      "Epoch 23/100\n",
      " 1/14 [=>............................] - ETA: 0s - loss: 0.6923 - accuracy: 0.3750Model performance has not reached pruning threshold for 2 epoch(s)\n",
      "14/14 [==============================] - 0s 1ms/step - loss: 0.6763 - accuracy: 0.3638\n",
      "Epoch 24/100\n",
      " 1/14 [=>............................] - ETA: 0s - loss: 0.6291 - accuracy: 0.4375Model performance has not reached pruning threshold for 3 epoch(s)\n",
      "14/14 [==============================] - 0s 1ms/step - loss: 0.6443 - accuracy: 0.4202\n",
      "Epoch 25/100\n",
      " 1/14 [=>............................] - ETA: 0s - loss: 0.6193 - accuracy: 0.5938Model performance has not reached pruning threshold for 4 epoch(s)\n",
      "14/14 [==============================] - 0s 1ms/step - loss: 0.6255 - accuracy: 0.5469\n",
      "Epoch 26/100\n",
      " 1/14 [=>............................] - ETA: 0s - loss: 0.6066 - accuracy: 0.6875Model performance has not reached pruning threshold for 5 epoch(s)\n",
      "14/14 [==============================] - 0s 1ms/step - loss: 0.5984 - accuracy: 0.7347\n",
      "Epoch 27/100\n",
      " 1/14 [=>............................] - ETA: 0s - loss: 0.6205 - accuracy: 0.7500Model performance has not reached pruning threshold for 6 epoch(s)\n",
      "14/14 [==============================] - 0s 1ms/step - loss: 0.5588 - accuracy: 0.8756\n",
      "Epoch 28/100\n",
      " 1/14 [=>............................] - ETA: 0s - loss: 0.5187 - accuracy: 0.9375Model performance reached 0.94, sparsifying to 95\n",
      "14/14 [==============================] - 0s 4ms/step - loss: 0.5122 - accuracy: 0.9437\n",
      "Epoch 29/100\n",
      " 1/14 [=>............................] - ETA: 0s - loss: 0.6640 - accuracy: 0.5938Model performance has not reached pruning threshold for 1 epoch(s)\n",
      "14/14 [==============================] - 0s 1ms/step - loss: 0.6377 - accuracy: 0.6455\n",
      "Epoch 30/100\n",
      " 1/14 [=>............................] - ETA: 0s - loss: 0.7330 - accuracy: 0.4688Model performance has not reached pruning threshold for 2 epoch(s)\n",
      "14/14 [==============================] - 0s 1ms/step - loss: 0.6327 - accuracy: 0.6455\n",
      "Epoch 31/100\n",
      " 1/14 [=>............................] - ETA: 0s - loss: 0.6229 - accuracy: 0.6562Model performance has not reached pruning threshold for 3 epoch(s)\n",
      "14/14 [==============================] - 0s 1ms/step - loss: 0.6276 - accuracy: 0.6455\n",
      "Epoch 32/100\n",
      " 1/14 [=>............................] - ETA: 0s - loss: 0.5595 - accuracy: 0.7500Model performance has not reached pruning threshold for 4 epoch(s)\n",
      "14/14 [==============================] - 0s 1ms/step - loss: 0.6205 - accuracy: 0.6455\n",
      "Epoch 33/100\n",
      " 1/14 [=>............................] - ETA: 0s - loss: 0.6567 - accuracy: 0.5625Model performance has not reached pruning threshold for 5 epoch(s)\n",
      "14/14 [==============================] - 0s 1ms/step - loss: 0.6113 - accuracy: 0.6455\n",
      "Epoch 34/100\n",
      " 1/14 [=>............................] - ETA: 0s - loss: 0.5938 - accuracy: 0.6562Model performance has not reached pruning threshold for 6 epoch(s)\n",
      "14/14 [==============================] - 0s 1ms/step - loss: 0.5997 - accuracy: 0.6455\n",
      "Epoch 35/100\n",
      " 1/14 [=>............................] - ETA: 0s - loss: 0.6600 - accuracy: 0.5312Model performance has not reached pruning threshold for 7 epoch(s)\n",
      "14/14 [==============================] - 0s 1ms/step - loss: 0.5838 - accuracy: 0.6455\n",
      "Epoch 36/100\n",
      " 1/14 [=>............................] - ETA: 0s - loss: 0.5980 - accuracy: 0.6250Model performance has not reached pruning threshold for 8 epoch(s)\n",
      "14/14 [==============================] - 0s 1ms/step - loss: 0.5628 - accuracy: 0.6455\n",
      "Epoch 37/100\n",
      " 1/14 [=>............................] - ETA: 0s - loss: 0.5086 - accuracy: 0.6875Model performance has not reached pruning threshold for 9 epoch(s)\n",
      "14/14 [==============================] - 0s 1ms/step - loss: 0.5371 - accuracy: 0.6455\n",
      "Epoch 38/100\n",
      " 1/14 [=>............................] - ETA: 0s - loss: 0.5558 - accuracy: 0.6250Model performance has not reached pruning threshold for 10 epoch(s)\n",
      "Model performance has not reached pruning threshold for 10 epochs, reverting to 90 sparsification and beginning early stopping\n",
      "14/14 [==============================] - 0s 1ms/step - loss: 0.5070 - accuracy: 0.6455\n",
      "Epoch 39/100\n",
      " 1/14 [=>............................] - ETA: 0s - loss: 0.4775 - accuracy: 0.9688Early stopping performance has not met threshold for 1 epochs\n",
      "14/14 [==============================] - 0s 1ms/step - loss: 0.4686 - accuracy: 0.9484\n",
      "Epoch 40/100\n",
      " 1/14 [=>............................] - ETA: 0s - loss: 0.4086 - accuracy: 0.9375Model performance improved to 0.96\n",
      "14/14 [==============================] - 0s 1ms/step - loss: 0.4059 - accuracy: 0.9554\n",
      "Epoch 41/100\n",
      " 1/14 [=>............................] - ETA: 0s - loss: 0.3443 - accuracy: 1.0000Early stopping performance has not met threshold for 1 epochs\n",
      "14/14 [==============================] - 0s 1ms/step - loss: 0.3197 - accuracy: 0.9507\n",
      "Epoch 42/100\n",
      " 1/14 [=>............................] - ETA: 0s - loss: 0.3084 - accuracy: 0.9375Early stopping performance has not met threshold for 2 epochs\n",
      "14/14 [==============================] - 0s 1ms/step - loss: 0.2359 - accuracy: 0.9507\n",
      "Epoch 43/100\n",
      " 1/14 [=>............................] - ETA: 0s - loss: 0.2282 - accuracy: 0.9062Early stopping performance has not met threshold for 3 epochs\n",
      "14/14 [==============================] - 0s 1ms/step - loss: 0.1734 - accuracy: 0.9507\n",
      "Epoch 44/100\n",
      " 1/14 [=>............................] - ETA: 0s - loss: 0.1203 - accuracy: 0.9688Early stopping performance has not met threshold for 4 epochs\n",
      "14/14 [==============================] - 0s 1ms/step - loss: 0.1366 - accuracy: 0.9531\n",
      "Epoch 45/100\n",
      " 1/14 [=>............................] - ETA: 0s - loss: 0.1036 - accuracy: 0.9375Early stopping performance has not met threshold for 5 epochs\n",
      "Model performance has not met early stopping criteria. Stopping training\n",
      "14/14 [==============================] - 0s 1ms/step - loss: 0.1208 - accuracy: 0.9531\n",
      "5/5 [==============================] - 0s 623us/step\n",
      "ORIGINAL PERFORMANCE:\n",
      "[[53  5]\n",
      " [10 75]]\n",
      "              precision    recall  f1-score   support\n",
      "\n",
      "           0       0.84      0.91      0.88        58\n",
      "           1       0.94      0.88      0.91        85\n",
      "\n",
      "    accuracy                           0.90       143\n",
      "   macro avg       0.89      0.90      0.89       143\n",
      "weighted avg       0.90      0.90      0.90       143\n",
      "\n",
      "\n",
      "\n",
      "\n",
      "MIMIC PERFORMANCE:\n",
      "\n",
      "\n",
      "Relative to First Model:\n",
      "[[63  0]\n",
      " [80  0]]\n",
      "              precision    recall  f1-score   support\n",
      "\n",
      "           0       0.44      1.00      0.61        63\n",
      "           1       0.00      0.00      0.00        80\n",
      "\n",
      "    accuracy                           0.44       143\n",
      "   macro avg       0.22      0.50      0.31       143\n",
      "weighted avg       0.19      0.44      0.27       143\n",
      "\n",
      "\n",
      "\n",
      "Relative to Original:\n",
      "[[58  0]\n",
      " [85  0]]\n",
      "              precision    recall  f1-score   support\n",
      "\n",
      "           0       0.41      1.00      0.58        58\n",
      "           1       0.00      0.00      0.00        85\n",
      "\n",
      "    accuracy                           0.41       143\n",
      "   macro avg       0.20      0.50      0.29       143\n",
      "weighted avg       0.16      0.41      0.23       143\n",
      "\n"
     ]
    },
    {
     "name": "stderr",
     "output_type": "stream",
     "text": [
      "/Users/jwrenn4/miniforge3/lib/python3.10/site-packages/sklearn/metrics/_classification.py:1334: UndefinedMetricWarning: Precision and F-score are ill-defined and being set to 0.0 in labels with no predicted samples. Use `zero_division` parameter to control this behavior.\n",
      "  _warn_prf(average, modifier, msg_start, len(result))\n",
      "/Users/jwrenn4/miniforge3/lib/python3.10/site-packages/sklearn/metrics/_classification.py:1334: UndefinedMetricWarning: Precision and F-score are ill-defined and being set to 0.0 in labels with no predicted samples. Use `zero_division` parameter to control this behavior.\n",
      "  _warn_prf(average, modifier, msg_start, len(result))\n",
      "/Users/jwrenn4/miniforge3/lib/python3.10/site-packages/sklearn/metrics/_classification.py:1334: UndefinedMetricWarning: Precision and F-score are ill-defined and being set to 0.0 in labels with no predicted samples. Use `zero_division` parameter to control this behavior.\n",
      "  _warn_prf(average, modifier, msg_start, len(result))\n",
      "/Users/jwrenn4/miniforge3/lib/python3.10/site-packages/sklearn/metrics/_classification.py:1334: UndefinedMetricWarning: Precision and F-score are ill-defined and being set to 0.0 in labels with no predicted samples. Use `zero_division` parameter to control this behavior.\n",
      "  _warn_prf(average, modifier, msg_start, len(result))\n",
      "/Users/jwrenn4/miniforge3/lib/python3.10/site-packages/sklearn/metrics/_classification.py:1334: UndefinedMetricWarning: Precision and F-score are ill-defined and being set to 0.0 in labels with no predicted samples. Use `zero_division` parameter to control this behavior.\n",
      "  _warn_prf(average, modifier, msg_start, len(result))\n",
      "/Users/jwrenn4/miniforge3/lib/python3.10/site-packages/sklearn/metrics/_classification.py:1334: UndefinedMetricWarning: Precision and F-score are ill-defined and being set to 0.0 in labels with no predicted samples. Use `zero_division` parameter to control this behavior.\n",
      "  _warn_prf(average, modifier, msg_start, len(result))\n"
     ]
    }
   ],
   "source": [
    "# Use the mimic_model function to train the neural network to replicate the original model's performance\n",
    "nnet = utils.mimic_model(\n",
    "clf,\n",
    "nnet,\n",
    "x_train,\n",
    "x_test,\n",
    "y_test,\n",
    "'classification',\n",
    "'binary_crossentropy',\n",
    "'accuracy',\n",
    "'adam'\n",
    ")"
   ]
  },
  {
   "cell_type": "code",
   "execution_count": 6,
   "metadata": {},
   "outputs": [
    {
     "name": "stdout",
     "output_type": "stream",
     "text": [
      "5/5 [==============================] - 0s 659us/step\n"
     ]
    }
   ],
   "source": [
    "# Get the predictions on test data from the original classifier and the neural network\n",
    "clf_preds = clf.predict(x_test)\n",
    "nnet_preds = (nnet.predict(x_test) >= 0.5).astype(int)"
   ]
  },
  {
   "cell_type": "code",
   "execution_count": 7,
   "metadata": {},
   "outputs": [
    {
     "name": "stdout",
     "output_type": "stream",
     "text": [
      "Performance on test data for original model:\n",
      "[[53  5]\n",
      " [10 75]]\n",
      "\n",
      "\n",
      "\n",
      "Performance on test data for neural network:\n",
      "[[52  6]\n",
      " [ 3 82]]\n"
     ]
    }
   ],
   "source": [
    "# Present the confusion matrices for both models\n",
    "\n",
    "print('Performance on test data for original model:')\n",
    "print(confusion_matrix(y_test, clf_preds))\n",
    "\n",
    "print('\\n\\n')\n",
    "\n",
    "print('Performance on test data for neural network:')\n",
    "print(confusion_matrix(y_test, nnet_preds))"
   ]
  }
 ],
 "metadata": {
  "kernelspec": {
   "display_name": "base",
   "language": "python",
   "name": "python3"
  },
  "language_info": {
   "codemirror_mode": {
    "name": "ipython",
    "version": 3
   },
   "file_extension": ".py",
   "mimetype": "text/x-python",
   "name": "python",
   "nbconvert_exporter": "python",
   "pygments_lexer": "ipython3",
   "version": "3.10.8"
  },
  "orig_nbformat": 4,
  "vscode": {
   "interpreter": {
    "hash": "0671325c08d22fc44ce2e58aedbf8efae69ce5eb9c1911bbe321ecb24080d883"
   }
  }
 },
 "nbformat": 4,
 "nbformat_minor": 2
}
